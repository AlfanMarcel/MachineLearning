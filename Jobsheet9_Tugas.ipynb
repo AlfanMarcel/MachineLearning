{
  "nbformat": 4,
  "nbformat_minor": 0,
  "metadata": {
    "colab": {
      "provenance": [],
      "include_colab_link": true
    },
    "kernelspec": {
      "name": "python3",
      "display_name": "Python 3"
    },
    "language_info": {
      "name": "python"
    }
  },
  "cells": [
    {
      "cell_type": "markdown",
      "metadata": {
        "id": "view-in-github",
        "colab_type": "text"
      },
      "source": [
        "<a href=\"https://colab.research.google.com/github/AlfanMarcel/MachineLearning/blob/main/Jobsheet9_Tugas.ipynb\" target=\"_parent\"><img src=\"https://colab.research.google.com/assets/colab-badge.svg\" alt=\"Open In Colab\"/></a>"
      ]
    },
    {
      "cell_type": "markdown",
      "source": [
        "# Tugas Praktikum"
      ],
      "metadata": {
        "id": "1x6qqKzmsiXh"
      }
    },
    {
      "cell_type": "markdown",
      "source": [
        "- Lakukan klasifikasi pada data MNIST dengan menggunakan model ANN\n",
        "- Anda diperbolehkan melakukan eksplorasi terhadap,\n",
        "  - Metode pra pengolahan\n",
        "  - Pemilihan fitur\n",
        "  - Arsitektur ANN\n",
        "  - Fungsi Aktiviasi\n",
        "- ANN diimplementasikan dengan menggunakan tensorflow.\n",
        "- DIKERJAKAN SECARA BERKELOMPOK\n",
        "- JELASKAN HASIL YANG ANDA DAPATKAN,\n",
        "  - AKURASI\n",
        "  - CONFUSION MATRIX\n",
        "  - KONFIGURASI MODEL --> MULAI DARI PRA PENGOLAHAN SAMPAI ARSITEKTUR ANN"
      ],
      "metadata": {
        "id": "DwCUJ0srspHT"
      }
    },
    {
      "cell_type": "markdown",
      "source": [
        "### Langkah 1 - Import Library"
      ],
      "metadata": {
        "id": "92zZ2bI7oyoO"
      }
    },
    {
      "cell_type": "code",
      "execution_count": 1,
      "metadata": {
        "id": "of_7jNkhlhjk"
      },
      "outputs": [],
      "source": [
        "import tensorflow as tf\n",
        "from tensorflow import keras\n",
        "from tensorflow.keras import layers"
      ]
    },
    {
      "cell_type": "markdown",
      "source": [
        "### Langkah 2 - Pra-pengolahan data MNIST"
      ],
      "metadata": {
        "id": "E1eDmvX6qd1Q"
      }
    },
    {
      "cell_type": "code",
      "source": [
        "# Pra-pengolahan data\n",
        "(x_train, y_train), (x_test, y_test) = keras.datasets.mnist.load_data() # load data MNIST dan split data\n",
        "\n",
        "# ubah bentuk fitur menjadi vektor dan dinormalisasi\n",
        "x_train = x_train.reshape(-1, 784).astype(\"float32\") / 255.0\n",
        "x_test = x_test.reshape(-1, 784).astype(\"float32\") / 255.0"
      ],
      "metadata": {
        "colab": {
          "base_uri": "https://localhost:8080/"
        },
        "id": "KaaAacqvpSFj",
        "outputId": "ad0c48a9-7686-4d65-eea1-830149cd89d1"
      },
      "execution_count": 2,
      "outputs": [
        {
          "output_type": "stream",
          "name": "stdout",
          "text": [
            "Downloading data from https://storage.googleapis.com/tensorflow/tf-keras-datasets/mnist.npz\n",
            "11490434/11490434 [==============================] - 0s 0us/step\n"
          ]
        }
      ]
    },
    {
      "cell_type": "markdown",
      "source": [
        "### Langkkah 3 - Buat Arsitektur ANN"
      ],
      "metadata": {
        "id": "wF92XUoDrIEs"
      }
    },
    {
      "cell_type": "code",
      "source": [
        "# Arsitektur ANN\n",
        "# Terdiri dari 3 lapisan Dense dengan funsi aktivasi ReLU\n",
        "ann = keras.Sequential(\n",
        "    [\n",
        "        layers.Dense(256, activation=\"relu\"),\n",
        "        layers.Dense(128, activation=\"relu\"),\n",
        "        layers.Dense(10),\n",
        "    ]\n",
        ")\n"
      ],
      "metadata": {
        "id": "01saM11LpX_N"
      },
      "execution_count": 3,
      "outputs": []
    },
    {
      "cell_type": "markdown",
      "source": [
        "### Langkah 4 - Buat Fugsi Aktivasi"
      ],
      "metadata": {
        "id": "x4QwyBZEregd"
      }
    },
    {
      "cell_type": "code",
      "source": [
        "# Fungsi aktivasi\n",
        "ann.compile(\n",
        "    optimizer=keras.optimizers.Adam(0.001),\n",
        "    loss=keras.losses.SparseCategoricalCrossentropy(from_logits=True),\n",
        "    metrics=[\"accuracy\"],\n",
        ")"
      ],
      "metadata": {
        "id": "nSbGpP6bpeJN"
      },
      "execution_count": 4,
      "outputs": []
    },
    {
      "cell_type": "markdown",
      "source": [
        "### Langkah 5 - Latih Model ANN dan Lakukan Evaluasi Model"
      ],
      "metadata": {
        "id": "56VJDOBfrnn2"
      }
    },
    {
      "cell_type": "code",
      "source": [
        "# Pelatihan model\n",
        "# Model dilatih menggunakan data latih dengan batch size 32 dan epoch sebanyak 5 kali.\n",
        "ann.fit(x_train, y_train, batch_size=32, epochs=5, verbose=2)\n",
        "\n",
        "# Evaluasi model\n",
        "# Model dievaluasi menggunakan data uji dan menghitung akurasi.\n",
        "test_loss, test_acc = ann.evaluate(x_test, y_test, verbose=2)\n",
        "print(\"Test accuracy:\", test_acc)"
      ],
      "metadata": {
        "colab": {
          "base_uri": "https://localhost:8080/"
        },
        "id": "NZAunUIRphw9",
        "outputId": "8ff45cc7-2948-47e8-a13d-9c7332cf8b68"
      },
      "execution_count": 5,
      "outputs": [
        {
          "output_type": "stream",
          "name": "stdout",
          "text": [
            "Epoch 1/5\n",
            "1875/1875 - 11s - loss: 0.2054 - accuracy: 0.9384 - 11s/epoch - 6ms/step\n",
            "Epoch 2/5\n",
            "1875/1875 - 9s - loss: 0.0871 - accuracy: 0.9728 - 9s/epoch - 5ms/step\n",
            "Epoch 3/5\n",
            "1875/1875 - 8s - loss: 0.0579 - accuracy: 0.9816 - 8s/epoch - 4ms/step\n",
            "Epoch 4/5\n",
            "1875/1875 - 9s - loss: 0.0450 - accuracy: 0.9855 - 9s/epoch - 5ms/step\n",
            "Epoch 5/5\n",
            "1875/1875 - 9s - loss: 0.0356 - accuracy: 0.9882 - 9s/epoch - 5ms/step\n",
            "313/313 - 1s - loss: 0.0720 - accuracy: 0.9793 - 797ms/epoch - 3ms/step\n",
            "Test accuracy: 0.9793000221252441\n"
          ]
        }
      ]
    },
    {
      "cell_type": "markdown",
      "source": [
        "### Langkah 6 - Tampilkan Confusion Matrix"
      ],
      "metadata": {
        "id": "ZZjdJ6k2wjO3"
      }
    },
    {
      "cell_type": "code",
      "source": [
        "# Confusion matrix\n",
        "# Confusion matrix dihitung menggunakan data uji dan prediksi model.\n",
        "y_pred = ann.predict(x_test)\n",
        "confusion_matrix = tf.math.confusion_matrix(y_test, tf.argmax(y_pred, axis=1))\n",
        "print(\"Confusion matrix:\\n\", confusion_matrix)"
      ],
      "metadata": {
        "colab": {
          "base_uri": "https://localhost:8080/"
        },
        "id": "Uk8kALFrqRMy",
        "outputId": "9f24be93-1c2a-46b3-e5c7-284c0a29a467"
      },
      "execution_count": 6,
      "outputs": [
        {
          "output_type": "stream",
          "name": "stdout",
          "text": [
            "313/313 [==============================] - 1s 2ms/step\n",
            "Confusion matrix:\n",
            " tf.Tensor(\n",
            "[[ 970    1    0    1    0    1    4    2    1    0]\n",
            " [   0 1129    0    2    0    0    1    0    3    0]\n",
            " [   4    4 1004    3    2    0    2   10    3    0]\n",
            " [   0    0    5  986    0    9    0    4    5    1]\n",
            " [   2    1    4    0  963    0    5    2    0    5]\n",
            " [   2    0    0    6    1  874    3    1    4    1]\n",
            " [   2    2    0    1    5    2  945    0    1    0]\n",
            " [   0    7    8    1    2    0    0 1007    2    1]\n",
            " [   4    1    4    6    3    1    1    4  948    2]\n",
            " [   1    5    0    7   10    7    0    7    5  967]], shape=(10, 10), dtype=int32)\n"
          ]
        }
      ]
    }
  ]
}